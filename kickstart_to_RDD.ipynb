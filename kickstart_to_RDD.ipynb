{
  "nbformat": 4,
  "nbformat_minor": 0,
  "metadata": {
    "colab": {
      "provenance": []
    },
    "kernelspec": {
      "name": "python3",
      "display_name": "Python 3"
    },
    "language_info": {
      "name": "python"
    }
  },
  "cells": [
    {
      "cell_type": "code",
      "source": [
        "from pyspark.sql import SparkSession\n"
      ],
      "metadata": {
        "id": "wX93Rqxsp-qU"
      },
      "execution_count": 1,
      "outputs": []
    },
    {
      "cell_type": "code",
      "execution_count": 2,
      "metadata": {
        "colab": {
          "base_uri": "https://localhost:8080/"
        },
        "id": "FjWv7da4pt7b",
        "outputId": "52eb3511-ca68-4865-beab-cba6f4d9ee6a"
      },
      "outputs": [
        {
          "output_type": "stream",
          "name": "stdout",
          "text": [
            "[1, 2, 3, 4, 5]\n"
          ]
        }
      ],
      "source": [
        "spark = SparkSession.builder.appName(\"RDD Example\").getOrCreate() # making a new spark session. # obj name: spark\n",
        "data = [1, 2, 3, 4, 5]\n",
        "rdd = spark.sparkContext.parallelize(data)  # for paralla computing use: parallelize\n",
        "print(rdd.collect())  # Output: [1, 2, 3, 4, 5]\n"
      ]
    },
    {
      "cell_type": "markdown",
      "source": [
        "Let a textfile has:\n",
        "Hello world. Apache Spark is powerful.\n",
        "Resilient Distributed Dataset."
      ],
      "metadata": {
        "id": "YJN7ABb21oJM"
      }
    },
    {
      "cell_type": "code",
      "source": [
        "rdd = spark.sparkContext.textFile(\"/content/RDD.txt\")\n",
        "print(rdd.collect())\n"
      ],
      "metadata": {
        "colab": {
          "base_uri": "https://localhost:8080/"
        },
        "id": "JrPUryfytayF",
        "outputId": "b8112ed6-3065-4454-9331-4a9f709968cb"
      },
      "execution_count": 5,
      "outputs": [
        {
          "output_type": "stream",
          "name": "stdout",
          "text": [
            "['Hello world. Apache Spark is powerful.', 'Resilient Distributed Dataset.']\n"
          ]
        }
      ]
    },
    {
      "cell_type": "markdown",
      "source": [
        "#Transformations"
      ],
      "metadata": {
        "id": "ANcRnmksyKEK"
      }
    },
    {
      "cell_type": "markdown",
      "source": [
        "map: প্রতিটি উপাদানের উপর একটি ফাংশন প্রয়োগ করে।"
      ],
      "metadata": {
        "id": "18AaGWpyyNde"
      }
    },
    {
      "cell_type": "code",
      "source": [
        "rdd = spark.sparkContext.parallelize([1, 2, 3]) # parallelize convert a list to RDD\n",
        "mapped_rdd = rdd.map(lambda x: x * 2)\n",
        "print(mapped_rdd.collect())  # Output: [2, 4, 6]\n",
        "\n",
        "# lambda: Single-line anonymous function.\n",
        "# def funtion(): Multi-line named function.\n",
        "\n"
      ],
      "metadata": {
        "colab": {
          "base_uri": "https://localhost:8080/"
        },
        "id": "wqdQPRmXysqr",
        "outputId": "e717667a-3d4d-4521-d1fe-f094a0645e8c"
      },
      "execution_count": 13,
      "outputs": [
        {
          "output_type": "stream",
          "name": "stdout",
          "text": [
            "[2, 4, 6]\n"
          ]
        }
      ]
    },
    {
      "cell_type": "code",
      "source": [
        "def function(x):\n",
        "  return x*x\n",
        "\n",
        "rdd = spark.sparkContext.parallelize([1, 2, 3,4,5,6,7,8,9]) # parallelize convert a list to RDD\n",
        "mapped_rdd = rdd.map(function)\n",
        "print(mapped_rdd.collect())  # Output: [2, 4, 6]\n",
        "\n",
        "# instade of Lambda we can use a simple function.\n",
        "# def funtion(): Multi-line named function.\n",
        "\n"
      ],
      "metadata": {
        "colab": {
          "base_uri": "https://localhost:8080/"
        },
        "id": "izBMvrl5wxpU",
        "outputId": "6b553c26-2819-4c93-bc5d-7b1e0a0bcd94"
      },
      "execution_count": 14,
      "outputs": [
        {
          "output_type": "stream",
          "name": "stdout",
          "text": [
            "[1, 4, 9, 16, 25, 36, 49, 64, 81]\n"
          ]
        }
      ]
    },
    {
      "cell_type": "markdown",
      "source": [
        "filter: নির্দিষ্ট শর্ত পূরণকারী উপাদানগুলো বাছাই করে।\n",
        "Like: if condition."
      ],
      "metadata": {
        "id": "zyDAO_nqyTYA"
      }
    },
    {
      "cell_type": "code",
      "source": [
        "filtered_rdd = rdd.filter(lambda x: x % 2 == 0)\n",
        "print(filtered_rdd.collect())\n"
      ],
      "metadata": {
        "colab": {
          "base_uri": "https://localhost:8080/"
        },
        "id": "fF32kSb4xkAc",
        "outputId": "2db18b1e-21a5-4762-9be5-a7373bf05a8d"
      },
      "execution_count": 15,
      "outputs": [
        {
          "output_type": "stream",
          "name": "stdout",
          "text": [
            "[2, 4, 6, 8]\n"
          ]
        }
      ]
    },
    {
      "cell_type": "code",
      "source": [
        "pm= rdd.filter(lambda p: p>5)\n",
        "pm.collect()"
      ],
      "metadata": {
        "colab": {
          "base_uri": "https://localhost:8080/"
        },
        "id": "l0nQY_QmyhtN",
        "outputId": "5e6c997a-980f-442e-85a9-7db47ef2b164"
      },
      "execution_count": 16,
      "outputs": [
        {
          "output_type": "execute_result",
          "data": {
            "text/plain": [
              "[6, 7, 8, 9]"
            ]
          },
          "metadata": {},
          "execution_count": 16
        }
      ]
    },
    {
      "cell_type": "markdown",
      "source": [
        "flatMap: উপাদানগুলিকে ফ্ল্যাট করে অনেকগুলোতে বিভক্ত করে।"
      ],
      "metadata": {
        "id": "b5ZUwrmSzTg-"
      }
    },
    {
      "cell_type": "code",
      "source": [
        "lines = [\"hello world\", \"how are you\"]\n",
        "rdd = spark.sparkContext.parallelize(lines)\n",
        "words = rdd.flatMap(lambda line: line.split(\" \"))\n",
        "print(words.collect())  # Output: ['hello', 'world', 'how', 'are', 'you']\n"
      ],
      "metadata": {
        "colab": {
          "base_uri": "https://localhost:8080/"
        },
        "id": "3C1T_svJzGgD",
        "outputId": "b94d5f4e-7d09-40f7-c195-d45d55bbe407"
      },
      "execution_count": 23,
      "outputs": [
        {
          "output_type": "stream",
          "name": "stdout",
          "text": [
            "['hello', 'world', 'how', 'are', 'you']\n"
          ]
        }
      ]
    },
    {
      "cell_type": "code",
      "source": [
        "rdd = spark.sparkContext.textFile(\"/content/RDD.txt\")\n",
        "words = rdd.flatMap(lambda line: line.split(\" \"))\n",
        "print(words.collect())  # Output: ['hello', 'world', 'how', 'are', 'you']\n"
      ],
      "metadata": {
        "colab": {
          "base_uri": "https://localhost:8080/"
        },
        "id": "QKQ6KqfszWb7",
        "outputId": "5e4990e3-ef3b-4006-8cce-bdf02be843b5"
      },
      "execution_count": 25,
      "outputs": [
        {
          "output_type": "stream",
          "name": "stdout",
          "text": [
            "['Hello', 'world.', 'Apache', 'Spark', 'is', 'powerful.', 'Resilient', 'Distributed', 'Dataset.']\n"
          ]
        }
      ]
    },
    {
      "cell_type": "markdown",
      "source": [
        "distinct: ডুপ্লিকেট উপাদান সরিয়ে ফেলে।\n",
        "**bold text**"
      ],
      "metadata": {
        "id": "nHdjJHsd2CHr"
      }
    },
    {
      "cell_type": "code",
      "source": [
        "rdd = spark.sparkContext.parallelize([1, 2, 2, 3, 3])\n",
        "print(rdd.distinct().collect())  # Output: [1, 2, 3]\n"
      ],
      "metadata": {
        "colab": {
          "base_uri": "https://localhost:8080/"
        },
        "id": "8e8rcPTyznqt",
        "outputId": "2ae53305-bb71-4fa1-95b6-29e59e43a6f9"
      },
      "execution_count": 26,
      "outputs": [
        {
          "output_type": "stream",
          "name": "stdout",
          "text": [
            "[2, 1, 3]\n"
          ]
        }
      ]
    },
    {
      "cell_type": "code",
      "source": [
        "lines = [\"hello world hello\", \"how are u u ?\"]\n",
        "rdd = spark.sparkContext.parallelize(lines)\n",
        "print(rdd.distinct().collect())\n",
        "\n",
        "# it not work. so distinct() only for number.......!"
      ],
      "metadata": {
        "colab": {
          "base_uri": "https://localhost:8080/"
        },
        "id": "f_ZDB_Qi2Qst",
        "outputId": "0debc2ef-72da-4077-ea3e-ae9842dae08e"
      },
      "execution_count": 29,
      "outputs": [
        {
          "output_type": "stream",
          "name": "stdout",
          "text": [
            "['how are u u ?', 'hello world hello']\n"
          ]
        }
      ]
    },
    {
      "cell_type": "markdown",
      "source": [
        "#Actions"
      ],
      "metadata": {
        "id": "Zr8cUo9n24sd"
      }
    },
    {
      "cell_type": "markdown",
      "source": [
        "collect: সমস্ত উপাদান রিটার্ন করে।"
      ],
      "metadata": {
        "id": "MUzJy2T-30V3"
      }
    },
    {
      "cell_type": "code",
      "source": [
        "list= [1,2,3,4,5,6,7,8,9,10]\n",
        "rdd= spark.sparkContext.parallelize(list)\n",
        "rdd.collect()"
      ],
      "metadata": {
        "colab": {
          "base_uri": "https://localhost:8080/"
        },
        "id": "szx8NXBB2lp2",
        "outputId": "aed3a1c1-1c70-4661-a5ea-52d52b4d9e92"
      },
      "execution_count": 31,
      "outputs": [
        {
          "output_type": "execute_result",
          "data": {
            "text/plain": [
              "[1, 2, 3, 4, 5, 6, 7, 8, 9, 10]"
            ]
          },
          "metadata": {},
          "execution_count": 31
        }
      ]
    },
    {
      "cell_type": "markdown",
      "source": [
        "count: উপাদানের সংখ্যা রিটার্ন করে।\n",
        "it take more time to arethmatic operation: count is havy for rdd"
      ],
      "metadata": {
        "id": "4MFNUFE731-w"
      }
    },
    {
      "cell_type": "code",
      "source": [
        "rdd.count()"
      ],
      "metadata": {
        "colab": {
          "base_uri": "https://localhost:8080/"
        },
        "id": "88Hr_Q_t3YvT",
        "outputId": "940deaec-b285-4205-d421-5e1ad9f6220c"
      },
      "execution_count": 34,
      "outputs": [
        {
          "output_type": "execute_result",
          "data": {
            "text/plain": [
              "10"
            ]
          },
          "metadata": {},
          "execution_count": 34
        }
      ]
    },
    {
      "cell_type": "code",
      "source": [
        "print(rdd.take(2)) # like head"
      ],
      "metadata": {
        "colab": {
          "base_uri": "https://localhost:8080/"
        },
        "id": "3lhnNv6336nE",
        "outputId": "a086eb91-59cd-4d09-9180-27c4a0cc2921"
      },
      "execution_count": 36,
      "outputs": [
        {
          "output_type": "stream",
          "name": "stdout",
          "text": [
            "[1, 2]\n"
          ]
        }
      ]
    },
    {
      "cell_type": "markdown",
      "source": [
        "reduce: একটি ফাংশন ব্যবহার করে উপাদানগুলো একত্র করে।\n",
        "\n",
        "![image.png]()![image.png](data:image/png;base64,iVBORw0KGgoAAAANSUhEUgAAA4QAAAEICAYAAAAHozqxAAAAAXNSR0IArs4c6QAAAARnQU1BAACxjwv8YQUAAAAJcEhZcwAADsMAAA7DAcdvqGQAAGs5SURBVHhe7Z0H2FTF1ccHUEBQFMResWHHHrvR2DWW2BLzYTd2k2jUfLG3JMbPji2KXWPXiB2xt9iiscXeFQVBUFAQ5Mtv2PNm3uHu7t3du++7u/f/e5777O7de+dOPXPOnJm5XQYMGDDNCVGC3r17uz59+rgePXq4Ll26FM6KNEybNs1NmjTJjR8/3k2YMKFwNh80U73JczkJIYQQIt/IIBQl6devn5t99tkLv0QtjBs3zo0ZM6bwq7Vp5nqTp3ISQgghhOha+BRiBvDwyBjMDvKSPG11mr3e5KWchBBCCCFABqEoCtP9RLbkIU9bIY2q+0IIIYTICzIIO4nVVlvNbbTRRq5Xr16FM40Ha79EtuQhT1shjar7QgghhMgLMgg7gSOPPNINGTLE/fnPf3YXXnhhwxqF2kAme5oxT/fbbz/35JNPumeffdbdcMMNhbPFaYV6o7ovhBBCiLxQ0iCce+653aGHHupuvvlm9/jjj3uFkOPpp592Dz74oBs6dKjbcsstC1eLtCy66KKuW7duXuns37+/W3bZZQv/CCGEEEIIIUTHUdQg3H333d0111zjBg8e7BZZZJF2U6gwZmabbTa34ooruq233rpwVqQFo/qbb75xU6dOdf/+97/dc889V/hHCCGEEEIIITqORIPw6KOP9tPE+vbt63/zji7ezfXuu++6t956y3344Ydu8uTJ/j9ROZdffrnbcMMN3ZprrukOP/zwwllRCWeeeaa78cYb3f777184I4QQQgghhKiUGQzCAw880E8DnXnmmf3vsWPHuvPPP9/9+Mc/drvssovbdddd3Q477OC23357d//997uJEyf664QQQgghhBBCNBftDMIVVljBbbrppq579+7+9yeffOJOPPFEd+WVV/rfIV988YX3JP7ud78rnBFCCCGEEEII0Ux0GTBgwLTCd7/7Jd6/rl27+jVu7IR5yy23FP5NDx5GvIn/Cdv17NnTb57y/fffu08//dQNGzYs0cBk98LFFlvMX8f/3333nfvZz37m5plnHh+f0aNH+2v4j81uDj74YLfOOuv4tYw//PCD+/zzz/0UwmuvvbYQ4nTicJnuuttuu/m4sRaS82+//bbf7fOpp54q3DUdnvPzn//crb/++m7eeedtW0dJ3Jg6e8kll8xwT/w88pH1mEy/ffPNN90vf/lLd8wxx7htt93WX896QryywKsoMMB5Lp7X0047zc0111w+L/v16+fz4euvv3YjRoxwZ599dqJ3lvApw/nnn9+nj6m9b7zxhrvpppt8noVh33333YW7kiGPGhWmjC644IJ+c6OLLrqocLY5eO+99wrfisOUYur/0ksv7es4ZcmaUzz2eOYvvvjiduXPFG/qGZ59pnYfcsgh7te//rVvI+xiSxsZOXKku/rqqxPbNNcQxmabbebrGlDXHnvsMX8fbcbCpj6WopHrTSWkKSchhBBCiGan238MlRMK3/16LAwQYLMTXotQCSiVJ510kttjjz28IYcCadu3o9DOMcccbtVVV3XLL7+8e/TRR73RZOy0007eaEJxxYjZZptt/PUYQYTRu3dvt9JKK7lZZpnFX7vBBhu0GZtcY5vcoCS/+uqrhVDbhztq1Cj3i1/8ws0333z+HiBepHndddf1xtvrr7/uzwPp32qrrXw8ZppppsJZ57+TvrXWWssbou+8807hn/bPQ5Fmai33w7hx4/yOrRiYKPqAkXzXXXf57xhxGAKklbyZddZZ3Xbbbec/LR8wSpdaain//IcfftjfZxx//PHeILR8A9LHteQd8SbPCPuJJ57wRm0pSEejguHCy8NR2pttU56vvvqq8C0Z0ob3nYEFysvKkk/aGO0Ho2v48OH+PDCYQBlT3uPHj3cbb7yxW3311b2339oI+TVo0KAZ6jnP+ctf/tL2Xkyut7q25JJL+vpDnSRsDFLqcCkaud5UQrlyEkIIIYRoBdo8hCiTp556qvcgYczgRUBJrAQ8jHg1UBzxZmBwmAcN4wnl0v7DCDr55JP9f2CeNTaw4cCYuvPOO72RxPpFjCL49ttvvWHDlNV77rnHLbzwwt6YQ5GFF1980e27777+O1i4pInnTpo0yf3jH/9w//rXv7wBSbzsXjyFRx11lPciwgUXXOCn0T7//PPeU8KzF1poIbfjjju2GXkYVr/5zW/8dwg9hMRxgQUWKPzj2rwraTyExJcDgxOPIKDkkx8wZswYb3zzfMCTSTgYzOQfhibvjiMOP/nJT9ryHrLwEGLU7r333j5P8NCtvPLKbR5bnk+8MRzItxCMDjzI5IvVBaYmExe8fTFzzjmnX7dK+BglGCrcA9wfeggZ0CD8jz/+2B122GH+nLHzzjt745p6Ff8HpGeLLbbw5YsRRRow4HndCt5V0mnEcQI2XfrnP//prrvuOvfll1/6c8Uo53kif4444gj/fMqeAQfqPPHjmaQbo4/2ed999/l7Qg8h+UPdYWCE/B84cGDJNkI7ZKo4RiP32n14xddbbz1fH41aPYTHHnusW2aZZXz755N6Sd7deuutfmCGARHyn/Z51llnteX7Gmus4TbZZBO3+OKLt9WDKVOm+Hoe1x0MZrzh5Nmll17qN28i3zCuKdcPPvjA/e1vf/P5UAp5CIUQQgiRB9o8hChmKGMYFChaGE0YQmnBGNhzzz29soZSee+99/opa/buwttuu81P8UOhQ6HFW/HKK694gwXMs4aix/RQvHO33367e+SRR7wih2HGfSi8KPUolqYIorjiceNelNrXXnvNXxOHiyHEBjnnnXeee/nll90DDzzgp3+iLBIuaUfBNA8jCupVV13ldwXFo4KBS57MPvvsXunkWRwYvSjvYM/jPEYs92B8/eEPf2jzrKTxEBLf999/3xvZKP3PPPOMN7IwGoknyu5nn33WVkbkNcYMkDaMVKYWovSS9xipHISbhYeQV5GsssoqXsHG4MDzax5bDgxD6hRpsDLGO4vhatNfgU/yE88VHinqhEG5kI7llluuzdMFlu8QegjJG4wRjCUzlAzCIM/xjsX/YdhSbrwTkjoGPIv0kKfkO0YEUIdZN8tggsWJg+/kCfWUukIcilHO80R+UC/+93//15c75cS0X8qVAQzzWBMv3gkKoYcQqNu//e1v3UsvveTbCPfwvkvLO6Yv8wzaLcYtxiLtnoGg3//+977eYAwTPmVrdaFWDyGefdoV7Z/3cVreUScwEKnbnOM3bZN0A7vx4hmP6wF5xX20bYxVwIDFgCRN1E3K3WYrcBA/zjMAVMp4l4dQCCGEEHlgulb9H1Dgw3cNVgoGEmEAhspll13mv4egbJpxgMKHwp8EnhbzfAHKqRlceD5QUlGODbwJKI9AGlDsk8AwjddPXX/99W3KPgbAEkss4b/DFVdckWgUo3jaazdQUEMPioHiST5g2D700EOFs+nBqMbQNCUXCAcjAFBwbXovxoB5DvGoYPBYPht4U+uh4KKQYzTxPPILLxVrOYkH/2E0wtprr+09POQL6cLYwWv3pz/9yRuBGDJ4sVD6Dd5xibGPso9xi2ePe1g/GKevWvCM4QUjP8M08CzSQX5T5wym5OKVDq894IADvBcRI5D/8OTVAgZu0jpbPNeWbvLLvOYxtBXyK4Q8xhMH3Gd1Nmy3DKKQ5hDqH+VlXtkswJjFQ0ycGKzAEKUOMbhAuslz2pXVaaA+0eYZ0CHPOch/DFQGUDAAYwgDWUB4Q4cO9fcw64ABEdoOxqkQQgghRN5pMwhRNPGeACPvjNRXAgoWSjUwZc+mXYag0LGOD7gWZT8GZY37Q2wKHPA/no2QMO6EiyIYw314q5KwuGKsMB0wBK8KxgEbyGBMYpQdd9xxbdPvSoGnMTRcK4GprXhxYtjoIwbl3owD/k+6D4WaPMgaygVvMp5MPLY8Bw8SnheMFssn1rOhuGPsMBXQ1l1i/JO3lCEGpHlO8YTh7cNYIFym/lm9YEAgq/dg/uhHP/JxxBjCeLc08CzSQbrwlAEDGAwYkMfXXHNN27WkFYOQdbHkRzioUC3Eic2BiBMbJWHkM40T478cGEnxVF0GA6hTMWnaLWkMjeIsIA9JE9OFqZcYg9QNvOVJ9ZQ1lUxtZcYA8eEg/6k/kOSVJEw8jHjoeRb34PFnfTRtHeNdCCGEECLvtDMITclGkWc6VyWEo/nmxUrClFKMziTDDUopnxiHTCmthmLhoigaFicUcrxXGCJMdWQ6HgokhhfKJMpmKVBqY8O2XuBtMaUew7jc2qgsoTxR5MM8BPPm2fo+6gf5xnouvFDhcc455/jBAdJgXk88Rnhs8XbhAa4HTF9mwxTqFGkoV17EiYESpjuaBzE88GjSdjB8Cbta8DCyFpX1rKz/xGuKR538KFfvKiVtu82ajz76yE+HNTAQbfprErQ/1sziQSRvLM9ZMwrIkxjKFS9kXK6kk3yknIQQQggh8k6bFoVnwKZOAp4x1rOlJVQmS60hsmmpGGdZeXlqJUkpZlMK0o+RgpHF5h54a5h2xsYvsQGURNZelWJglNmzMBoou0bDDNZKIZ/x6NQDW4uJcWBTjktB3iYZHlnCGkQ2iDHvOevcWMOKccgUx0rW9aYBb6JRqt1mTdw28AQneTABo4/XaOA9tjWGtYC3NMspsEIIIYQQzUw77ZbpV6aUsQkFHp6k9XFJ4MkxJYvNNZKmY6HsmgeI5xSbwlkP8NwkKbzEk9dQAF49m9LK9EDu4RyeCDbaYMooG9ZgRNSqlGYJRqxNs8ODiScrBo+vrRXrTNjghHqVdLB7JWu9QvDY1uJtM8oZcpUYerbDa1IaOBhMCF9FUgl4UK3NMUDDhjfsdku+sZYy63rHukLzOuItTZoKTXyo850F6wOpu6SfNYCs2bS8DncXTQsyiPR01ICNEEIIIUQj004LZh0UuxKiIKJ4srsg671YzxWDkshrKv7v//7P/2bDFtv4hSmMgwcP9t9DWBNlyi5TVEtNEcsaFH7SEa/B4jUZ5o1h2prtclnKQEBpx1vUKLCrpe2WiOLMOxxDxZ7vTD2sdF1oltiur+x0miYeeOxQ2Im7GexG6EFLgrobPgPjHu9abNRQ1tRZzuNVLRcvpjkSL/KYHVTrQal6h8c6C+M4hPWm5h1lzSbvEA1hF1LaTWcOgJjMYEdZ1gCGO4MmGbClYJdY6iAgg4QQQggh8k477ZMReHYHNc8dSiDrlzAK2ZSBd6xx8DoIDnZoNIWMXUFtN0IU7J/+9Kfu6quv9gomB56fzTff3HvdmCpKeEkbWNQTpobyugqmn2E0nX766d7LQHwxgpmOZ7ub2nRWpjryovDddtvN33PhhRf69yI2EuQj67HIe8qMDVzIb/KdtFJm7PbZmR4RDA/yFO8x3jXqTikDjGmiGGt4PHl/IAYbBxv6YBjFxh1Qf8kDDAheI0H4vO/xoIMOmmGzIIONf5iuyGsITjjhBG84ch/Xb7/99v5df+x+CqzNxBtLnSBOhJu1gcYUWSsnBlaor7yXECOYnVnZeCdL2JjF2jveWHZRPfvss723lnJiejR5YV7EzsC83wwCsFst5UP9oWzYFKgYtAXusTKiHA899FBvFDINnHWjQgghhBB5ZwZ3BEYRu/nhPTElECOOTS3winCEm5iEa3FQ0PD6cY57WPOD0szBe9vMGGQnQXaW7EhQKkkT0+Iw7lC0MexIB+nkXW9sIGOwY6QZhaQXw4p78JoyHTDNmrOOZMiQIb7szLvLTpfkO2nFECbtpd65Vm8YALA6hVG4zz77+A1CmI5rB6+TMDAg2aEV44hpvRhrHLwmAWU+abrxCy+84NeHUaZs8EL4GDh49PAGmWERglccDyvgISPPuA/Dn82EqC/mtcNYGz58uH+9BEYJxiMbD4VpwPhmkKFaHn744ba1vKRj44039kYZ+YURXO1U1GJgRF988cVt3jKMQryCvGuRzW1IJwM9GM2dhRntGKa8l5LyIT+YBk2ZFjNWkTcYgVZGGIPcQ1gM/FQz3VQIIYQQotVInJ+GIr7nnnu6P/7xj36HRxRwU7r4xBhCacUDiPFooFyisPHid95fZgo497BWCQ/LMccc48PtDHg9Aq8SwPNEnDj4zkv0eYl3+M4/DNa//vWvfk0hBi7XYgjgUUG55HcjQd5jOJAW4mnpw0Aivhi7nRlnjCk25eG9cxgf4UBCMVD8MSSpf4Aij6GI8Zu00ywGJwYZ73/EkCS93MtrI2699dZEo4Z4Me0Zj3cYL+7nN/nJdGgDIwLDlTbCvVnnKd5e8gmPrw06ECc2l8GjXY93SWIcnXLKKT5NNgjCM5kie+6557YZzJ0FRjuGuMkhK1dercHgUpq6BJQ/+Yv3PF6rKoQQQgiRV7oMGDCgsSybjGGLetYMYZxiYOANySO8fB0PJxvrYARjdDzwwAOFf5PBYyayh7VwrUxn1xu8yGzsw+tBMPQZEKmGVi8nIYQQQggovoOFaCkGDRrUtstosZfXCyGEEEIIIfKFDMIcwJow1oPZ5jm8OqOjN/QRQgghhBBCNB4yCFuEfffd1693YzOUww47zO9MyS6j7BjJmk3bup+1d6yDFEIIIYQQQggZhC0CO2GyZor3LLI7JhvMsGMm3kF7NQhrB9lMw16tUY6sN0wR+cjTVkij6r4QQggh8oIMwhaBd6qxM+WYMWPa7brId87df//9fifVW265pfBPeSZNmlT4JrIiD3na2Wlkt9n999/f7brrrlVvKKO6L4QQQoi80PK7jIrq6d27d9tUU5ENvMqCV7C0Mq1Qb/JQTkIIIYQQIA+hKAoKMdNMRTaQl3kwMpq93uSlnIQQQgghQB5CURY8PqxP7NGjh+vSpUvhrEgDa9GYfjh+/PjcGRnNVG/yXE5CCCGEyDcyCIUQQgghhBAip2jKqBBCCCGEEELkFBmEQgghhBBCCJFTZBAKIYQQQgghRE6RQSiEEEIIIYQQOUUGoRBCCCGEEELkFBmEQgghhBBCCJFTZBAKIYQQQgghRE6RQSiEEEIIIYQQOUUGoRBCCCGEEELkFBmEQgghhBBCCJFTZBAKIYQQQgghRE7pMmDAgGmF7+3o37+/69u3r5t11lldt27dCmeFEEIIIYQQQjQSU6dOdd98840bO3asGz16dOFsOmYwCHv16uUWWWQRbwQS6KRJk9wPP/xQ+FeIyllooYXcRx99VPglhBCiFZBsF0KIxqF79+5u5plndn369PH22wcffOAmTpxY+Lc07aaMYgwOHDjQBzJq1Cj37bffyhgUQgghhBBCiAZm8uTJbsKECW7kyJFu2rRp3qbDtktDO4MQz+C4ceN8YEIIIYQQQgghmgeMQaaN4tjDtktDm0HImkGmicoYFEIIIYQQQojm5auvvnI9e/b0Nl452gxCNpBhzaAQQgghhBBCiOYFT+HXX3/tbbxytBmE7CbK2kEhhBBCCCGEEM0Nth02XjnaDEKmi2oDGSGEEEIIIYRofthoJs3rA9ttKiOEEEIIIYQQIj/IIBRCCCGEEEKInCKDUAghhBBCCCFySpcBAwZM48tqq63mPvroI39SiCxZaKGFMqlbzIGeaaaZUs2FblamTp3qpkyZ4j+FEKKRaQXZLpkrhGh1kNXPPfdc4Vcy8hCKpmDmmWd2PXr0aGljEEgf6SS9QgjR6nS2bJfMFUIIGYSiCaDDzltnTXpb3fgVQuSbRpLtkrlCiDwjg1A0PEwlyiN5TbcQIh80moyTzBVC5JVMDcJTTz3V3XnnnYnHoYceWrhKiMrI66itRquFEK1Mo8k4yVwhRF6pi4eQxdnffvttu4MXI2bJ/PPP7373u9+5a6+91h1yyCGFs0IIIYQQQggh0lIXg/CTTz5xO+20U7vjoosuKvybDf3793crrLCCm3322V2XLl0KZ4UQQgghhBBCpEVrCIWI2H///d2VV17p1l9//cIZIYQQQgghWpNM30PIGsJBgwa5Dz/80B144IGFszOy1157uQ033NDNMccc/vf48ePdo48+6q666io/vXTTTTd1W2+9tVtggQX8dtDTpk1zY8eOdbfeequ7/fbb/XpErol56aWX3Oeff+7/+/LLL90ZZ5zh/vWvf/n/7B6L24orrugOP/xw72FkjeNKK63kFllkETd8+HB37rnnuu2228799Kc/9Z7Irl27+njxDo+hQ4f6sEV6an1XVa9evQrfOgYMwrXWWsuXNfWyM5k4cWLhmxBCNBbNJtvTIJkrhGg1GvI9hIcddpjbdtttXc+ePd0HH3zgOxM6hS233NLtvvvu/poNNtjALbzwwm706NHuvffec1999ZXr27ev22WXXdx6663nz3OvrUscNWqUv+6zzz7zvytlzTXXdIsuumjb1NPBgwf7uPTr189Pf+VZ/MezDzroIH+NEEIIIYQQQjQ7dfEQxuBdu/DCC/17fvAOTpo0yXvhzFrFyNpss828d+/444936667rnv77bfdCy+84P9feeWVvSGJN+/uu+/26xHNwzfnnHO6+++/34cH5glM6yHE6GNEEO/jDTfc0HZ+lllmcZdffrm75557/P0777yz+8UvfuGvPeecc9wzzzzjz4vy1HMUmXKhXKkDW221lS836lvo3eMaPL62pfjLL7/sTj75ZP/dOPPMM92CCy5Y+DW9zloYSR5DrgfqpcF1G220UeGXc2PGjHFDhgxxr7zyiv8d///ggw+WXVur0WohRKNSL9l+7LHHunnmmcfLbPro559/3i277LJeh2CW0I033uivi2Xqxx9/3CaT+Y+ZP//+97/d2muv7c/FfUMSkrlCiFaj0zyE8S6j3333nfv+++/dkksu6TsABPwJJ5zQ9kqKLbbYwk/L7N69u5+iOWLECLfGGmt4I49dRDES8RDaNVmC5+/111/3xiAst9xy3vAknhiqFsfddtvNd0Y8f9ZZZ/XXisaAstpxxx3dU0895Y0/BgMwAMGMQRQAvmOgLbHEEl7hMDDuCOOkk07y12CoVQrKB2sOb775Zh8GB+dCYzD8n09+c14IIUR75p57bvfiiy96I4+B5oceesgvLxk4cKD/H/nJbuMmb5Gp8847bzuZiq6x9NJLe9nOgT5ifYMQQoj/0iG7jDIF87HHHvMGHQYYnhOU7vh4/PHHvcGFscgawvnmm8+vHaRT+OabbwqhZ8uUKVPcO++8U/j1nwz5TxyB5xHnOI6PPPKIT59oLCgb87ZRZzDwll9+ea88jBw5su0/DEO8z6xP5X+Uij59+vj7zXirFMJhJJqBBRu5jllqqaXa/c8n8eK8EEKI9qAnoBMAsvKKK65o571Dlh933HGFX8699tpr3mCca665CmemewSvu+46L9s50CWsbxBCCPFfOmWXUYywu+66y3tmwuOSSy7xI4GsHxw3bpw7++yz3cEHH+ynczLNtBZYs1iMH374ofCtPU8//fQMccTD9MYbbxSuEI0A3meUB4PpoOadw7PMVFAMMDt4XYnBiDKe31pgFJqpqqxlTQLlAyWE54bxCKeoCiGEqAz6ZJOnGIfI4nIgq9NcJ4QQeaJDDUI8a2wEw7o/1nsZCOhf/epXfipH7969Xbdu3byRZqOBGIl4cYrB9QbeIQxOwmGjGGB9JOsP0sAGMowqcv8mm2zi42bg6fzlL39Z+CWaAeoDU45sWpEd4XTOWsEYpc6EI9MhPIe6zNrFOB7hGkQhhBDpYNo/ugSDtMhSpoSGA4NJIKOR1eWuE0KIvNGhBiEbwjCtg2mZvHaCd72dd9557tJLL/W7jGKEsekL3kBeSYGyfMEFF/hdSW0qp/HWW2+1TSNl2t/FF1/sjjnmGD8tj/N4BNkplKmCRxxxRGovEFNUnn32WW+QYogSN+JIXOl06IBE84A3N15XEkJ9REGwdSlcF25SAKY8EA6giITePQw+BjuWWWYZX0eSePPNN0v+L4QQIj3M/giNu+23376k5w89gfXjyOqsBgOFEKJV6FCDEOF91lln+bV5fEd448XDWOMdguyAww5iLB5nIxoEPtewbo9XT4RwP9fSGbATGco6nkLCYHE5niHWI7IOESOTXcrSwo6oGK+sR8AzOWDAAL+RDMaFrWkQzQFTiagnKAM2tYjDNpVBMWD9IMYa59lNlN9MQzU4z0Y1bFzDd+ol3r4QpqkyGGHXcDAYYWtV+M6al/B/jmKGqhBCiOIg15nBw1RRZClymdkgIfzPshP+55ONx+IdpoUQQmT82gkhkmjFlxd3FNoCXQjRqDSybGewLX5dUBokc4UQrUanvXZCCCGEEEIIIUTjI4NQCCGEEEIIIXKKDELR8EydOrXwLV/kNd1CiHxQTxnHum02lqtkuqhkrhAir8ggFA0PrxHJI3lNtxAiHzSajJPMFULkFRmEouFh1Dbc9TMPkF6NVgshWplGku2SuUKIPCODUDQFdNa8n7LVO2zSRzrzZgALIfJJZ8t2yVwhhNBrJ0QHUOvW5EIIIRoPyXYhhGh89NoJIYQQQgghhBBFkUEohBBCCCGEEDlFBqEQQgghhBBC5BQZhEIIIYQQQgiRU2QQCiGEEEIIIUROabfLqBBCCCGEEEKI1qHcLqNtBuF/Pt17773nTwqRJapbQgjReki2CyFE45NGVmvKqBBCCCGEEELkFBmEQgghhBBCCJFTZBAKIYQQQgghRE6RQSiEEEIIIYQQOUUGoRBCCCGEEELkFBmEQgghhBBCCJFTZBAKIYQQQgghRE6RQSiEEEIIIYQQOUUGoRBCCCGEEELkFBmEQgghhBBCCJFTZBAKIYQQQgghRE6RQSiEEEIIIYQQOUUGoRCiJm644QZ31113udVWW83/vuCCC9wjjzzittxyS/+7WrIKR+Qb6g/1iPrUCKheNw6NVjeanf322889+eST7tlnn1We5ghrR8ccc0zhTLZYvapX+GI6mRqECAAEQXhQiH/729/cFltsUbhKiNrA8MAAoW4hKIRoZWKDu9WQgSQMFD70Bup8Z9Hq7a1e0Bfvvvvu7u6773arr766O/DAAwv/NB+SSSKP1MVDOHXqVDdx4kR/dO3a1S2xxBLuiCOOcDvssEPhCiGqZ9VVV3Wzzjqr+/77792gQYMKZ/MDnZUUlsans8up3qO2QmTNCius4L766is377zzShkvAgZrZxrMxaAvpk9+4YUXCmeag0bKz0YtW1EbDJbQFze6A6MuBuEHH3zgNthgA38cfvjh7osvvnCzzTab23zzzQtXCFE9dDwjR450r776qltkkUVkGImWZpdddnFbbbWVe+655wpnWgs8CfQVeBZEfsEA7Nevn1ecYJVVVvGfHU2rtzdRHskkkUfqvobwiSeecM8884z/Pvfcc7tll13WfxeiGlAalltuOffyyy+7l156yXsK8RgKIYRoXrbeems3efJkd++99/oBP7yFQgghOoYO2VSGKaQw00wzuV69erWtNYxd43aeT7CFpEy7YsRm+PDhbfO6uZdrjz32WHfyySe7xx57zP9+9NFH/W+eYyy22GLutNNOcw8//LA3Tjn4fuqpp3oj1dh22239esenn37ah8XnhRdeWPh3ejhnn322f4b9f/PNN/v7RMdgo8ZMS3n++efdN9984zbaaCN/Lsbqkx1Dhw71dSmud1bP7Dqu4dpwDYFN/zvssMP8teH6Ra7hWrs/vC/E6qwdZ555pr/W6jvYGprwsCl/Fk/WZ1BvqZthPCBOcxg2xOEXi6sRp40jqyktafMtJs7HcEqkhcm58DqbuhmnP7zXKJeHhMsR1xu7rlw5VVoGPMviDzyH37vuumu7/OM6g+8nnniil4PIp/j/pHKN05kEceDZ4X1h3IpRKs08N/xNPvGbT+KcdE9IeA1HUrtKIi6/UumwdId5aJA2K99q8idOvxGGa8TlVixPmg3yh9kezC7CM8eA30ILLdQu7VCs7sf5wH2c4zOuH0ltPoTr4zJLk+/ELXxOuXKP2wRHqbjZ9eghHHy3eFi+JPVPcbziOlUsT+O6nlS3udfyBnmHvEHuhPkT553dF1Is/laOnA+fbXEL0xanC8L/42vK5WeYBiMOL77G0krY5eIWUiouRrlnl6JcG7Dnl7oG0sShknQblm+lwk0ijg+/Q0g3R5g+i1P8zLi+A9dxvV1DHQzbNM8r1Xaszeyzzz6+bfDJ/3E8G4UOMQj79+/vP8ePH1/VNIzu3bu77bff3s0xxxyFM/8F79BPfvITPy2VtQc9e/Z0m2yyiTvyyCP9/zSuU045xRsNhPPRRx+5Tz/9tO26008/3RfUpptu6g455BC3+OKLu7Fjx7q33nrLffnll34KSxjO2muv7SZMmOD/ZxRz4YUX9vdxv6g/jBqT70zloC6hQCStN6FB4kk8/vjjHR3VAQcc4K8LBwAAQUEjtYXwHIS54oorFq74L3gj119/fXfooYf6enDxxRd7gUEYTF+1+4nfUUcd1RYnEwrcTzy4hnhRd8OBC64jfRZnDoQH4fAcnsdzOUd9JyyLB8RpvvTSS91KK63UJnyIJ2Fx3sKnHpeCUXsGYux67kVRq1Wgpcm3mKR8/Pvf/+4NHsIK4RxKpcW5b9++7k9/+pNba6212u4N89Yol4cG8mCbbbbxdcHiwSfxKFVO1ZRBEtRj4s1Al8UzLBemvZEG1nFb3DgHxAGlLcx7S2dSpxjCtH/ah93HMygP1ogXo5o0zzzzzL5dWhmShwz+HHTQQW0dctp2lQRxCts99wP5YuGHlJI1tFn6DAaoqsmftFTTZpoFWxfOrA9gwK/YGnGu23PPPdvqvtWNpHxAUbM6xEGbTJIXpUiT77S7uL/hmmKUk/VJoH9w3bvvvusPvofTGsmXuH8ivDnnnLOtfXCgA5EvYV6VkyfEl7ZBPls4XPPdd9/55xMP4o+8IU0WL/ItraxJij8gC3bccUd3xx13+PuRZ8hf+iXSZuHG6SqX9nL5GWKyJixjDsqYNMZlZk4Cuy4pz0NKxaXSZ4fYveSt5UPcZ6ati5QX5VZKjleabuAZ5dpXEpX01aSPa8gDZDVxIvzrrruu7d5YryFOafqIUm2HfoPp55yjbVjeNeqGS3U1CCmIo48+2mcAXsJ//vOfhX8qo0+fPr4QERRxg6Xjp0KwYQ2VkYrMRjY8k0Lbe++9/aY2X3/9tTvjjDP8ddttt5276qqrfIfDfzvvvLMbMGCADwsj8IQTTvAVZqeddnKXXHKJf87gwYO9sUinTxj8z/Hmm2+62Wef3cdL1BeEAwoZHbyBAkGHEa43oXFyHY3d6goN8/zzz/eN0qB+YCBQZxDIBo0VoRzDc+655552gxoMNFA3L7vsssIZ56688kr/iTEFKIkIZJ5v9xIv4kcdNPgPpT2s33feeae/Zq655iqcSYY0I4ToJO1+OtQXX3zRC03ybv75529TXA0TeMUgL8K8IUyEPB1tLaTJtxjyEcMOxcDykbhRVpRjKKQ5Z/G2OPfu3bvdvZa3pnSmyUODehSWJ9PcMP7oeEpRTRkkQbzD+m1pLLemNqzzYafE/YRF+smHYpCn4X3cQ0dO/S723GrTHLZL8vmpp57y5W9TxNO2qxjLg7COcD91g/AJN4kkWWMyibgRRjX5k5Zq2kyzQBvE2LA6Qr6hFCbVZ8qAmTlWf8h36gCE+cB15L2VMZhsj+VFKdLkO/KQ+IZxQvewehnD+WplfTGS+ifC5znhuQcffNB/0taNcvIEpZc6HPa9XIPnrhjWztLKmqT4G8hg7gOTtQzwWzkA6QrbZ9q0p8FkDUp/WGY4FKgb1JEQ6liY5jhulVDps0PS9JmcL1cXMY7IM/LbygFiOV5NuquRa5X21RYeaUVWo+sjGywtfIb13epumj6i2r64EamLQYghiBDAgsf4okLwe8iQIYUrKmPKlCk+synIGAQUlQIoeNy2jFrRgBBixKVLly7eGL3lllv8dXDFFVd4TyFCBSUOQ5DnINjZCIftk+GBBx7wn0svvbQ3NClgcw3zOXDgQP8/lUTUFxMO4S5mKBAIk1ARNwWfRhlCJ4LSYaBYUm7UgxjqQwwNPwwzVgYNe44ZTcSN35wPISzCjEHY2TQFRqMQXijVpSDN5AOdZQhpo/0hPPlOm6jUW0GdZ5SR+HDQpmpRcNPmWwz5SJ6FHRJQVtbejVBxAa6Jyy8mTR4aofIHpIO4l8uXassghniGBhYk5UNM7IkJKeWViUG2W31g8K3Uc6tJM/GI4zhq1Cj/aUpKpe3KsDww5dCw+4q1NevoQ2PCFJ14Z8VK8icN1baZZoC0ocThWQ3TRhtGPtsAgJFU95PyIakOQZp2YqTNd8JELsbeiXJUI+uLQXqLyTcUequPKPE8JzQ8y8kTSy/5UWrAKKRSWVMs/nE5mqzliNt+EuXSngZkTSzzgbgkzRyI+59ysqUUlT47pJI+s1RdJJykOhJTabrTtq+YWvpq+hHixLXFqKSPqLYvbkTqYhDaayco1FdeecWdc845flpl6J2pBKaavv7664Vf7aEwQqhE06ZNK/z6TwL/Y8RBfB1xMQVjlllm8SOOt912m/ck4i08+OCD3bBhw9rcxBYOFZ7KFR+sJxT1AwWMEReEFMLKBDzrs2h0CADrqBAiaToL6xSsHpQjDpNnInzMMx3HCYg3goF7Q4GXBMKRQQYGIxjRQpHE+52m3ZBmnsmzw7jYFA5gpMumM/AfzyrWkRgotoQZToNj1KwW0uRbjOWjDTaFB3HKgjR5WCvVlEGWUOfJ+2pB4SXeYPXBfhejHmmupF3FkAfIEZRD4mOHKUGlCI0U4oBxGCoc1eRPGqppM80CRjX5bnllB2klzaU8IPUmbb7jFbGp2fzPABr1oxi1yPpiJPV5puSzPCacWodSWwm0Maa+oRBbuyln/FYqa9L02ZWQVdpN1nQGtTzb7i3XZ5arixZONbK2HNXKtXr31bX0Ec1MXQxClEemUCJAmOt/7bXXFv4pTY8ePQrf2vPDDz+0bUwT061bt8K36VgFi++JPXgUqhkEZiyeddZZ7qc//anfOAall1dlMG0UL6eBcUpjiQ+moIr6gQJGGVqnGx4IeUjj2cgSGy1KihMH0zAqAYGM0GVqdDyiVw5GpOhMw/USdoTrMfjkN9fxLEZPi4342jQR8jecBlIr1eQbHRHxpV0m3VNs7UclpM3DWqmkDLLGRkergTiyRoNyq7Rud2aaY8gDlB3qdVzOHKXqeujZiEeRq82fUiPVRtayppHA+1Cs3dHeS3lAYmjDaaAOpjE+Ksl3Bj44hz5AvWCJSrF41yLr04Iizzpn0pCFfATSSxotPxgwLEYtsqZWsky79T2dQS3PTttnlquL9Ux/tXKt3n11LX1EM1MXg7Acn3/+uf9Ewd9www39d9bl4ZmrlDXWWMOts846/jsjIVRyDEIqDF7Ft99+23sMV1555XYvxt9jjz2823fSpEl+HSDCg3upBBiw5557rhszZozffGaeeeZxH3/8sb+PzUbCcOjMTjrpJK8IiPqBAobgiKdmAY0fwWJztotNNTKj0ig2RY4wCKscCCQEJXWgGAjTYtM6bGS8FGmuAZTKpDQXg3ix7ob028BIGkgDaamFNPmWBG26EuWwUirNw1qptgxqgXYCSYMn1DVkZ9IUr2KkbStGVmmupV2VyoNyoECx9oQ00/dQj0tNo0qbP+Q7gy8hYfuots00OiZPKEvKNCZpDVIp2R4a19xXTLaTl0nPi6km36kjrCmCuExLkVbW1wp5Qt7UAsYvHhMMX/I0iaxlTRZUm/ZifY/Vp6QpnVlRy7Or7TPjulivvrdauVbvvrqWPqKZ6RSDkA7122+/9QV63HHHuZtuusmPThTzApaCSotwuv76671hwCYxvMvovvvucx9++KGfBvrZZ595bx9rA1lHePvtt7vddtvNCwbWFvJ8DD12IeR/hDkj2OwwSmXFYLz11lt95Q3DYXSMaRNUSl6pIeoDQog1JqUEX2gEMq8cr2+4uxXCE6M/7AxMuWPEh/I29tprL5dmGhYKBXPfk9aOMLJkz2aBNoQ7JPIfU1lCELqhkEu6BpKEYVKaAa8F2/ADn6FXxjrlYlNm7XwoFBlNrFVpSZtvMUn5CJRdWH7VkiYPKyGpnCotg1pI6myp86y5ps6HeU+cSHO4eUMMnSSGXBhemrZSrzSnbVcxxdo9YfC6mbBuJYESS7nSZ4RrX6rNHxuYQj7Zs4kX7cNI22b4j2lyYX43MqwLpy4UMwwwtmmTYZ5yfZhXpJ02y3XxmiIGasO8YB0rZRevDSpG2nyP5ZbJTFMsY9LK+iTSKufEnfYfXkteVDN4zf2k0SDvyxnWtciaWqkk7Wnykw1PCC/e+ZL6hFFsm5bUSlJcanl2mj4zTV0sFodS/XUa0ravmKz76pha+4iYJAOTeDNVt5SXvaPpFIPQ1usx/ZIKjacOwY83r1Ief/xx995777lFF13U7/Y5evRo99e//rVtd1AqHAVKJ8mmMbwmgufxigreOUgFxyuI8Thu3Di3wAILuCWXXNKH9c477/hppA899JB/wT6Gp61lJBwTiGw889prr/nzIntstCpesBxiShXrTShzpu1QNrbeEI/viBEjvJIcguuf/8M57GCf5bD1UXQ0dj8HgxIIFeCTHcKo6zbnnXqHJ9rm6QNxQXDYvPWka8CEIdeZ8keamaKN0RyusURg2sZIeLvDOfEIJDqTYp0y54k7QtHuoQxqXUMIafIthvMMxkC4doB1XLEiWA1p8rASksqp0jKohbCz5VnW8STlPXEif0tNheF/Bsvweth9YJ/FqFeaiU+adpUE6WSaUtjuCYO+hHwrhRkpPCOcsVBt/th9KGWWDgwg4hdSTZtpZMyoIC+LeVkpC7yH5CntB5DhGBOWV7RV2ixtNyw7+gPyhfZreYWyTT5WUvfS5DsDxaHMYAAz3hUyJK2sT8KUfJ5Xbj0uO1GG/SCGNPoXeVMp6EWWPvKecMtNVa5W1mRB2rSnyc9ifQOyhz4pq/aXFJdans1/5frMNHWxWByo97WmvRq5Viw+1fbVSdTSR8SQDjMwCSc2fhuFLgMGDPA7sDBdk4Q2Cyg3KDoUGBVKNC6NUrdQQBAeKBjlOiMaLMoKhmWljT8tCHuEL6OoqsNCZIPaVcfR0bI9rVzGeEQ5xNCux2CLEEI0E2lkdad4CIXoDJgSwSh8uM4kCRu5ZnSxXsYg1HO6oBB5Re1KCCGEqAwZhKLlwEOABzmc5805RoyZGhF6Da6++uq2qUhG1usCCJ/nhHCOONVzHYUQrYzalRBCCJENMghFy8Eak3BdEQdTRZnDHa954L2T4fomjqzXBWCEsuY0fEZHraMQolVRuxJCCCGyoWnXEIrmQXVLCCFaD8l2IYRofLSGUAghhBBCCCFEUWQQCiGEEEIIIUROkUEohBBCCCGEEDlFBqEQQgghhBBC5BQZhEIIIYQQQgiRU2QQCiGEEEIIIUROkUEohBBCCCGEEDlFBqEQQgghhBBC5JR2L6YXQgghhBBCCNE6lHsxfTuDsNzFQlSD6pYQQrQeku1CCNH4pJHVmjIqhBBCCCGEEDlFBqEQQgghhBBC5BQZhEIIIYQQQgiRU2QQCiGEEEIIIUROkUEohBBCCCGEEDlFBqEQQgghhBBC5BQZhEIIIYQQQgiRU2QQCiGEEEIIIUROkUEohBBCCCGEEDmly4ABA6bxJc1b7IWoBtUtIUQj07t3b9enTx/Xo0cP16VLl8LZxmDatGlu0qRJbvz48W7ChAmFs42BZLsQolmpRu43sjwuRRpZLQ+hEEKI3NKvXz8399xzu549ezacMQjEibgRR+IqhBCiNqqV+60sj2UQCiGEyCWMEM8+++yFX40PcSXOQgghqiMrud9q8jjXBuGWW27p9txzT9erV6/CGSE6lv322889+eST7tlnn3UXXHBB4awQ+YK6/8gjj3iZnATn+f+YY44pnMkGpgs1G80Y5zxxww03eHleqj4LAdb/Zy3XmgGT6aX0Hv6766673GqrrVY4kw1ZytBWkseZGoQUHoIw6Wi0Cr/xxhu7ww47zB1wwAHuN7/5TeFsx2AdhgyA9JjwiOsVeRnSTAKWuO6+++7u7rvvdquvvro78MADC/90PuRrPQRxGmgXlCH5I2YkTUfa7HRUO2btSLOx6qqr+rbZWe0za8rJGv6P5XyjQjxnnXVWr1dssMEGXrY3Ap3ZL5q8apYyDClXNxuFZtJ7StFR+Z2l3Ccs4t0KA0B18RBOnTrVTZw4sd0xefLkwr8dz1FHHeWGDRvmzjnnnMIZ57766iu/IJR4jRo1qnA2n9BxXXrppb7zavQKjRGI8cRBnBdaaKGm7Ghg0KBB7vvvv3cvvPBC4UzHY511o3QkdGzLLbecu/LKK93FF19cONs4NFp+dTbNnh+NuGawHK+++qo7/vjj/fe99trLf4rOh7Yw77zzug8++MA999xzhbMdD/1hI/WJDHqOHDnS7bLLLoUzopWhD6dP4LNRyVLuExZ1mzpOXW9m6mIQIhAxMsLjL3/5S+HfjmeVVVbxgnrmmWcunHFeYG+77bZu3XXXdZdccknhbD5Zeuml3bLLLtt0c6ExGF588UVftmbIcm7ttdd2p5xyiv8tqgMBt9VWW3W4YrPRRht5wdqIxmCjwMANMrWRPMpZo3ZcGtrlU0895QdPTPYJUYzOak8YBfTPDz74YOFMc9FZ/WCltIq8bJb8ToI6Tl1vZEO4HNpURgjRENgI+8svv1w4I4Qohs0sYMBTiEaEWTDffPONe/755wtnhGhNqOPUdep8s9KhBqFNL4rXB9l5DhvtZMoD0wOPO+44d/bZZ7snnnjCPfPMM+6BBx5wv/rVr/w1xgorrOCngz788MP+GrtuyJAh/lmLLbaYv45phrbujDnKzFWO48L6jIsuusg99thj/lrCGj58uPvd737XtvlMeO+vf/1rN3ToUPf000/7azm/zTbb+OsqIW167bpjjz3WnXzyyW3xfPTRR/1vi2PavCa8ffbZx3tPuffEE0+c4Z5GZs455/SN8IsvvvC/iTfxtylsll5+h2tck9IYr4GNr+E7YbH2lHLmGrw1xfKLvE2aD29xoj5anvP74IMP9tdzX0wcFnHl96677urvtTgn3WvPs2s4uJ9reTZxwFse3h8/D6zeh+HEz7M84pP/7DrOEY9SmGKbNIU2DIsjzRTF+J4zzzzTx6PatXeEl5RfHHFekX7qRfwsu94gHWEci9WlECvPMGwL155r4RV7fnxdGH8r5zCeBufsWr4Xqz9Jda6SaaUWv1L32DVx3SIO1T63mUD24E2n/8sTlC9HubqeVAetfoL9T/2wOnPHHXcUrful6iTPtrZgegbnuJZ7uDckDovfxIVPiwtHXLcNwrZr7Dr0Fr6j73CE9xeLO7/DcJLiSnw4LAy7Ns7vGGTEIosskjiFNg4rlp9JxGlG7ypWVpUQhxvGhbDD31zL72r6Xb7TByXlcUwcp3J5HZdvWLfDsOJnF7sufqZdF8eDfLEysO/ok7QDPuNwyhHndxJcE4dbKu4dBXWcuk6dLxX/RqbhPYTrrbeeW2mlldzHH3/svv32W7/N68477+w23XRT//8666zjTj31VO8u590gn376qX/5Ii+PZH3WO++80/bySNYNvvXWW77QkiCsk046yRuF8O677/r1hfZMBH5I165dvfFnQo/n8W4S1nVU20mXS69BHH/yk594Q4h0kfZNNtnEHXnkkYUr0kG8P/nkE/fDDz+4KVOmuPfff9/n2ejRowtXNC4IMdYQ0omXm2KAwgq2/vCjjz7yQh1BB3xiXLIZQLFrjC222MI/k2sYdKDc41EhhC5xY1pXHDeb8ofgYn0t64H4zaBCJVDXeM5pp53m42JrKkNhyP/kE4qjpYvrvvvuOz89g2cTh7///e/+P84lQTjnnnuuN74tHO7FoxcLcAYX6Azw9HEdecp9Bx10UElBOf/88/t4kj+GdTK2UQPhEVfK0zq/mKR7iCttho6qWorlF+ns27dvm9yAueaay+dD2DlQj0IPKB0b5ygPwuJgCjR5VyxtpUAJRB4deuihbfnEZxwWcaAO23WkibxCvpUqn5hi+UGaWLfNWjfOWVyyhPrIeg3aKG2HOlNNXWl2vvzyS5/eSsqtFUhT17feems/mGt1MEk+AvXHZBVh0ifSRmK5z3T2sWPHunvvvbdw5r8wfdvaAnKdsCqd0p1WbiI30BFCuYFeY30SegsH361tJFGJ/EkrW0Lon7p37+5eeumlwpnpcA/PIF6EQTqhlPwhrkyPJo/tHsqIZ9QCdSEOlz6oFJX0u6EMpC6i35UjTivhU97VGDnl9B6DegJ2nZVvJc9Ez2G6J/GlHVi9ynJpA3lDXhO2hZtlftUK9gfyuNZ62VnUxSC00Sk7GFmIK2BaULaPPvpor2j88Y9/dOPHj3ezzTabL3DYYYcdvGDAKOL/7bbbzl+LcfTb3/7WDR482H3++ef+WoQmjaGY0bTHHnv4gsTI+v3vf+/DoYIjuDCY8GBsttlmhaud69atmzec8OBxLWsR2aSmf//+buWVVy5cVRnl0mug2NIASL+NzmOg0iAqUQ7Ii3vuucdvBETcL7/8cp9nt9xyS+GKxoL0Wb0i3XRgadab0UGGgon53nTA5pWijMnz0HizdQ8IIIN7qEf2TO5D6MdreTpiwxjCv+6669o6fOKEwDcjhINOnHOkzeA6vJyVgDIUh8NzeT7G0Oabb144Ox3Kx9YzkKcYxrHRFINBHkO43Bca/YRLea611lqJdZ17EMrnn39+2z0WV/Isayhjwg0HBRgQYqAFhcg6h9ADisKA3Io3z6GOlkpbKeiEwzSjuCLLkgan/vrXv86QN0nlWA3WXkJFkDLLan1LaAyG9bGaulKM5Zdf3ntcKJ/111+/3TkOvteKhYfXIGT//fdv99xSNLsCUi1p6jptKaxzJh9jOTNmzJh21915553+E4PSQLbTXjEW7Zn1oJzcxMigfcVywwystFQqfyqRLQbxRP6FECZh84wwnbTZYvLH4hr2ddxDfIhXLVAXwkFIwt17773b0plEuX4XrL8MdQ7SS/mWgrSSbxiPYfjoObGOkQbyuZTeY9AGkuJazTPrhRmDYZ3NOr+QxZQtThiDc2nlsW1QSZyakboYhEm7jOJ9qoZ//vOffvokMD2Siovhg6BhI5TFF1/cewNHjBjhhUq1YHDhocDww4C1ZwIGEyODdLyh0kc6Edg0Onj99de9AUf8ZpllFn+uUkqlN4RRRBoBkL/EGa9PqysHCCmMQg5G8xDCaQYczCtjIKwR7JR5CB0uz+Cgk8XwxtsTghIWguIbClk6BeKFoWhCqh5QJ+O1GeYxoA6gRNDJxmmvFFOGksLh+cQjVAzI13hU2ARlnJcxxD+EcCmrUGmBMJ0x3BNOIzaszLOGMkapMEWT/OrXr59XKmi3Vi+oaxYv5Ajfk9bWkM+hEpiW2LvK83kG+RQqd/F1UKw9VANhQdJIdK2Qr4TLM0JjEKqpK8V45ZVXvPefWRoMMoLt6Ml5/q8VwkBxod6ERid90dtvv+2XAZSDdtWZO3h3FmnrOt/xGptMZ7A6viaWOdaeQwXf2rAZi/UgjdykjifJ/UqpVP6kze8Y6qbJAyBM7ok3mSklf0znCsMB5ChxqAXKnjpRiTepXL9r/WVcryDWHWJIK+HHXmjuQ8eo1NBIq/ck9e3VPrMeoOvFxiBknV8MlFPXMeiRxSzNQj4zPTmNPCZ/m1ke18UgZBQNF7QdTE+6//77C/9WBh2ygeGDwWagrM8000zeMKNS1ALhAGGNGzfOfzf+8Y9/tBl6oWFGXML4cW8Yv2oold6QOL0IRgzjPEGnxCghhKO51cBIE/Pr8SyHUw9iA4Lf1kkbsVFknV7cuXc0pkTE8a0UhCrCtaNB0SAf4xkHHJRPEnYP7YH60VHQoaIEoAygPNIp0EnRuVAviBcKpnkYYi9FK4HiePjhh/syYBoY5VVqalkl2JQrFIOQaupKOTDYGC2mrBgl5pPfWRiDxmuvveY/Gdy0TwYT33jjDf9bVA8ehQsvvNC3ORtEtMHbkCQlPTaKaMOxUdTRZCnbOkv+0CeF68vssPWXSRBX0hwP8GUBXjGbHkk84uUP1WD9ZTnjLwnSilFJvQ3zx6Z+5hHyY8UVV0ycDVaP/Lrsssv8JzM1llhiCV8n0hiDrUBDrCFEyNXyXhCmbrLWLguSwvrRj37k+vTp4w0+BFMjQDxDTAhhQBLPYtSa141GFqOEdAA2tbLUmoti0DnjKTaDoNToaykIJ8v6hSEYG7TVYKOKHUGoqFh+oMSZQhce1ZRVvSCvaX8YgyiPZvihWNLm8ADxaYMESaPHjQBKTBb1kDCYbk85WQedxZoOBhaJG2sUQ+9jveoKigBte8EFF/SfWSsGhIc3cKmllvK/Bw4c6OvGjTfe6H+XAwU7nj3SbITelRgzgiptLza1MlxrVAkM5jDIhyw3j0+SF6UcWclgyKJdGh0lf6iboZeG/GCg29aXxUc1ZVUrTI/k2QwEU9fOOOOMdrKlI6Fc0GnwiMV5wz4ZsUFUb6i79P9Z6FnVwrOR++RB3IfUI78Y8MODzWwUZPONKWUxUNebWR53qEFI4SEM8MYxWg6MCtFZsylKpSAgUWDw3BEGRylKGUJxWGwwY+DhZLSQBmEjup3NGmus0RZHRsWJMwopeczU1WrymvwxT2mzgBKBEK8HKANpPWO2VnDjjTf2c9dRHqlT1UB6wlFKU0gqBUEOpKMWrDMwD2gII+hZTEsF6mwM58zQTgN5jjGWdA/GWrFR6FoxLzEKPR2JGX4oQJQndYI8tEECZE2xaaHkM2FVOqCQlmJ5Q10nvkZW9RAlD0MtC68EMyhQ3MjL2CistK6kgbUkrHmiLPgM15ZkBd5ABhyZ5TDPPPNUvLkUeUEbbVZoKzaYEpPlbItK6q/JEfpO1umTx/G0tLSQtniqfCV9S0hWdbwj5E/S9Llq+qTYW2tY35MVDBgxAwBCI7ZSrC9I6i+TzoWUKpd6UiyusWyJZXjWZVCM2267LXGjm3rkF4O3DGYic/AQ4imshHiadDPRoQYhUy/ZPRPDgzm6t99+u7vpppv8i9GrXWOIkGaKJ4YBuz4RJlNFWF+37777+mtM0WSjF/5ndCqJYcOG+c1pCOvPf/6zDwd3sQlf1vRVO/U1a1BsGdm6/vrr/SgIFZeKeN9997kPP/yworymUXEvU5XYRYzrLO8aGZRVdmCDWtZ20Pkj+MKOlimk8UY+paAzYUoRgom8rHYzGTo/6p+tVwI20KjGkCFOtINYiJI228iilLFnkD+sz6WTpE0Y5JWt57INAmqBehgrO1au8U57eABsGqKt+7TfSfcQJtOBQ+L7+Cy3HrVYfpkCufDCC/tdjU2Z4pPrOW9eQyC/yDfKlvIwKCfyOdwYJWuoSzzX4PmkmfjYiGraepiUH2H9AsKmXJMM/mogX2yqeGgUpqkrlWCKAaPE9C188pvzIawzufHGG/1nNXAvSxK23357Lzv4nRZT2qyuUH/SbGvfSFDnqHuUYxhvfiNfkKuVjvTbwEZoeFQqR1EIMUbpW8O2WwlmHCB7rJ6Sxkr6lhCms1He8WAIOo39TmM0doT8QTZQn8MyoE+ynTfDNkl7ZZ0Wn8QbOWx9jXlrwzXJXMesntCo5hz6mk37tN9h3xcT5htYXMmbaiHfGBCO1yaSXs6VIimtEMvUrCFeYXkQb87ZwDYHbSC8LqkMwPKuEqM/DdRZ+utQn8k6v1g3SFi0IWQ+6Ufepx0IJM3UeTOiiWczyeMOnzLKrmp4sMAWtt58881VT6tgN0w6YsJkuuQCCyzgR/UoFDZkgWuvvda/TgHvH8/s0aOHPx+DEOQ9gChDXEvlZ0Tks88+83OU49dOdCaPP/64f73Goosu6qe4stspOwey06mRNq8xhDF02ZSGsBilrtZArzcIA4QCB2VC54jXs5rpYCGnn366D8vWPCHoKq2XtoMX9a7a+IRCz9JJfUxa+5IGwqPTQwGx8FACbI1S2HnxX2jwhaCQERaKhoVDXtG5x5t7VIsZ0aGngHxkPRqE6wTw1hQbsecehDnKnN2DAoUcwGteDJTrcuuESuWXeTowbLkOrCOdY445/PkQ8o11EeF6GjyJ5HOlCnAlUJfo8OyZPJ94hOWYth4Wy48111yz7T6rJ1lOB7MyBsJHSammrhQDJYDdBvFIMjoNfPKb86FRSFtCXmI4xMZiWt58802/mzSfaUEBoj1SLs1OUlugXBnQqka+0H6oD7XIUcJAHtCmq/VQ0j5s8KKWvsUgPAYliJeFx0HdMbllAyP8X2qAq97yx2Qf+hjGg2Hr9mx3dA7aK/oM98RwzmYFWJp5BRIbCZrinQSDs+W8y+RbmI+kH7lSqg9IA3kYrk3koH/hXCmKlS9GCu+krhfof8hJex76AnoD6TBspoeVW7EyIO/M6Oe6UgZ5pRAHwiRsjH3IKr8wBnkXNI4RHCiADk3YbCxWziikjlPXqx08agS6DBgwwO9E8p9P3yBFY4PChfKFYAkbayOTl7rFKBCCiGkn9VToWxkzKKpRAsuBYoRhiJIZtx2EOR0Kxk2ztKtqqGf+NiPIploxRQKq3YGUaUkoZGl3s0OeYgTjecpCga2WVpftai+1Uc8+0WQ2CnjSYBPtgzaFMdkoCnojtNmQUn1iK5OF3A9BBja6/pdGVjfEpjJCtAJMzWUUs9a1F3kGLytej3pMsUhaJ2cwmsyIfaWeJCHWXXddv26U905WYwziVURxZTAi7aY1KMPcU+9X2+QZZBDTJ1vBA9tZmJeVvjFrbP1aPPPCwCNHm2okb41N8S7l2RTNCXWcut7MzgAZhEJkgCkPjdYBNRsIU5TceG1LJXDf1VdfXfg1Hc4xGpq0dTVwjmkhKrt8UcurevAMMqUIRYCBjJNPPrnwTzqYgsRoMt5F1icSVhqY1oZnBGyLdJE9lCvrkzRIVBu8IoZBPvO2Vgpym3vDaaecwxvDerVini28up3l9WKapK21MzhX7/XhIh1ZvqKNsKif1PH4dUjNhqaMNhlUPE0ZbRwwNDBe8Dw1U5m0MjYNJt5AQuWjKXAx8803X1U7XHcmrPVmXXsj0Iqy3fpYvDiNNN0wr9jUUDa5CmGtWJbrkrMEYzB+Fx7r1xtlqqiR1ymjWcr9RpLHpUgjq2UQirqjuiWEaER69+49g6LZ6GCosJNtIyDZLoRoNrKU+40kj0uRRlZryqgQQohcQkfOa4uaBeLaDMqHEEI0KlnJ/VaTxzIIhRBC5BZeE8MoL1N/slxbkhXEibgRR3uVkhBCiOqpVu63sjzWlFFRd1S3hBCi9ZBsF0KIxkdTRoUQQgghhBBCFEUGoRBCCCGEEELkFBmEQgghhBBCCJFTZBAKIYQQQgghRE6RQSiEEEIIIYQQOUUGoRBCCCGEEELklHavnRBCCCGEEEII0TqUe+2E3kMo6o7qlhBCtB6S7UII0fikkdWaMiqEEEIIIYQQOUUGoRBCCCGEEELkFBmEQgghhBBCCJFTZBAKIYQQQgghRE6RQSiEEEIIIYQQOUUGoRBCCCGEEELkFBmEQgghhBBCCJFTZBAKIYQQQgghRE6RQSiEEEIIIYQQOUUGoRBCCCGEEELkFBmEQgghhBBCCJFTZBAKIYQQQgghRE6RQShEB3DBBRe4Rx55xG255ZaFM50HcSAuxEkIIYTIAvqUu+66y6222mqFM60B6SFdzz77bNOn75hjjnFPPvmk22+//QpnqoP7CYfwRGtQF4Nw2223dddcc4177LHHfAN65pln3IgRI9xZZ53lVlhhhcJVQlSHCecshJpxww03tGRHJoQQzQLKJToD8rhZsQE30hEeSQOCGFDxdRzF+jbLn6Sjnop5nvtH0nziiSe6b775xq2++upuq622cs8991zhXyFah8wNwqOPPtodddRRbuDAga5Hjx7uu+++c1OmTHF9+vRx6667rjvttNPcFltsUbi6Mgh32LBh7pxzzimcqR8d+SxRGauuuqqbddZZ3ffff+8GDRpUOCuEEKKZYcD4q6++cvPOO29DzKaoBYw0DAg7Ro4c6Y222NCbOHGiO/7449tde/fdd7t99tkn0Qij37v00kvbXc9vM0Q7It/sWVkaoeQLYWY1yJsV6Bt9+/Z1L7/8cuGMaAUatb51JpkahPvuu68XFDPNNJN788033a9//Wu33nrrubXXXtsNGTLEC/q55prL7bHHHm6xxRYr3JWeVVZZxXcUM888c+FM/ejIZ4nKwAikc3311VfdIossksmo5S677KKRPyGE6CTQHfr16+eVNKAPbiWuvPLK1IOYp5xyijcSGfg84ogjCmeLc/HFF7tDDz3Ue7EOOuigzD156h+FaH0yMwgXXnhht9lmm7nu3bu7t99+2x177LHuqaeeKvw7XRgOHTrUffvtt/7ajhjFEq0H9Wa55Zbzo3UvvfSS7zAZwRNCCNG8bL311m7y5Mnu3nvv9QN+rba85IsvvvAGW1rwEjLomdZbirGGzoU3S32iEKJSMjMIGfXq37+/F+j333+/e/fddwv//Jfrr7/effDBB96DuPLKK/tzNoc+XjNg5/nEpcucevMqMkXC7mEkzNaTHXzwwe68887z31m3+MADD7jf/va3/h6o9Vmi87FR4xdeeME9//zzvoPdaKON/LlyWDnbEU7HiddI8JvD6oPdQxgx8TWEw+BHmuk7PMPu4yg1BYf/eE48xcHagNVRnsmzw3DtvyTs+jhtcbhGUnot34QQolKQH8z2QD/AsGHAb6GFFppB1iWBfOKoVlbz7GKyDpnLdaFctmuTwi/F3HPP7QcwP/3008KZ8jDoySyltN5S+sVSXkjSF8try5M4PZav9t3u4ztr6nr16uX3iyB/7DpjqaWWatcHxf+HWH4yRZYw+eQe4mN9E/lPGGFY5fq58F7CsmuS+lArZzu4j/sJj/hQBpbWsC6E4Yb3GaXizydH+GyLW5w2uyekWF0OicPhO174NCTdG6atGHGehPUqKT84LO5xOYR5bZRLt+VrfJ3Fo1R9gzgOadPdCmRmEM4///zeOzhhwgT3zjvvFM7OCN5DQDCmZfTo0T5Mwgamnr711lu+8whhbeJKK63kPvnkE3/t7LPP7nbccUd34IEHFq4oT9pnic6BUWNGjxk9RXGgXNKMoNLY8SzaWo0DDjjAh1MKBgW22WYbPxWHe/7+97/7z1BI8R2BQnz4j4M4rbjiioUrkjGhRDsgLhY+nU6SEIRinX28xoGR9uHDh7fFh/UlKFehYK6WOL3EHVAQ4s5ICCHSYOvCMYCgnGETU42sDmUXJPUl6DUQeivjuKYB2chUTgYw8YCm5aOPPvL5YPEoh3kh55xzzsKZ9tBHxB5ElvFg8ITLL8gD8iJp3RzTR+lHWfto+cw5A8MXZZz9IvivXP9DP850VK4jTFsfGeptG2ywgY9L+Ky0/Rx9Kth15Omuu+7aVs7UC77bcznQ+YBncZ4ysLQyndf671Cn4Ci2TjQp/kC9pW5xnvo4duxYHzf2sLjuuuv8+aR0pemHiQPX4WXmGg7yi2Vc5Ui6l7QRr1K6FoZYmCfEHZ08qUwsP7iGOvmnP/3JrbXWWm36EMYYzwrzMk26oZQ8KFXf+L9YXcgDmW8qQ8NhWmgxpk6dWviWnltuucUNHjzYff755/43BUSjOfLII/1vQKDhnaRQd9ppJ7f33nv76zBSaYyMBKQhzbNE50BDjTuptCOodJBmSAJCgTrCZzEQFueff37bNXTkdLimHCCAEGAILjoJgzqY5CEP2Xzzzb0QvOOOO9rCJwzuI8xQuBnEnTTE6yZRmuhITNHg+WF8WF9CJ1hMSUiLpZc4WvjEnTSQFtIkhBCVggzDkGHWBxSTdcVIK6tLya64L+Eens89GIAWjziuxUCZNC/Dueee65/V2evwkgxt8ohBdHQljDkIZ+JUCuFjzFhfa/1P2rJMYsyYMe36NEjbz1F+XGs8+OCD7coZY5v+MyxPMzqKQX2hTmD0htedfvrpPqx41lJS/IF6y3IqoF4w5RddFUOM9ECcf2nqMhAH7gvTzvXUx3JwL+m47LLLCmemL/sCDPEkMNwwXDE6w7J/8cUXvZEYGpJh3C19vXv3bqcP3Xnnne3qatp0Qzl5UIxq6kIrkblB2LVrV9etW7fCrxkp9V8t/PDDD74xmbFApWHaKAYoDXfZZZf150XzYoIo7KRouDTgcg39yy+/9KNGlXjJQgMSEC4oAqYcmGcuaQoQzysF8UUImtA3uI/wrWOOoTMLhR/xoKNgdNuEH3CeEUxTSEh7qNRUg42ME4cQ0oHgTjuKLYQQBooiCmMsw+jLkXWhN6sYaWR1OdllfYnJMe7BSCIe3GvxwOAg7DCuSSB3MQrxlvAMPBa1yN8sII/IKzOayHumEJIW0hoaSaQRJbpSYoUayvVr5SjWn6bp58IBZIj7K/pv4pVm8x6D/juuc0A+Jnmai8U/DmPUqFE+bqWmFaepy0mD50a5Kct2L/p0WMfLeZ/jgWmD52GAYywacbzIH+JOGoqRJt1GOXlQjGrqQiuRmUFIRbDXSyyzzDKFszPChjJQrIFUC4bfuHHjCr+mg6cSQ1E0PzRiDB9Gz5geYB3AhRde6BswwiaephHCKJlNG+A+OpFaO2em2gBCvBJ4LoKJzsvSYQfxK0VsAGMYojSF05eYtkG+0DERHgcDJLVCesM593ZQHmk98EIIEYIRgvww2WwH08pQJNOuES9FGtllyrx5YlBw8eyg4KJM8ruUol0MFFM8Zsjpvfbaq3A2HaZEp52eSl9I31IqfvxnBgt5H2/kY31tbKB3JklGTFb9HN4mpgiS19SJcmvGrP+uhHJGWCWkqcukhbZTDXavrZm0w3StYmAo8j/XhffZlN1a6Qj9o9K60GpkZhA+/fTTfgSBUSYEeFIB/fznP3dLLrmkNxxfe+21wtlkeIdhpeCdDKFysoEN8MxiVPMs0bEwOkSHakZdeNCAIZwGkwSNnesZsUWgn3HGGZ3S2G20is4rTgsHU5zjkUfDlBbr0GNPI3PgEWbkSThVpBQ28lcODN9wzn18pH2eEEIYyDBkkK0dCg9kpMm6Wkgru1Dc6WfWX399bxRhPJnMReGtdiqlTYuLp86Vgz4N2Rx73IqRJn7khU2ZJO/N8COt9Iuknc9K1kh2NNX0c6WgfHg9GnWQ/Cb8YgPM1n93FmnqsnnNqsHuTdK1OMI1kCE4eYq1Y/I2ng1VKR2lf1RSF1qNzAzCDz/80LtyGW1aeuml/QvdbYoF7L777n7N1iyzzOKFPPN+wdbqIYQ33HBD/32HHXZwAwYM8N+T6NKlS+Hbf0HAsVgWrwuss846bs011/TXIuSZx5zVs0THQ8eIkErq6KyztZHdctiILdCpVAtxIU6xIWojrKVAeFar6DC3HjbeeONUo9U8g+vKEU8FMSPcII+hnOEthBBpMNlUzBuFTmHGSy2klV0m0zHcGNy2/gYdgngOHDgwcapgGmwNFrpQGlBEUXTjqXvFQGklP1l/Vip+NsuEtDBd1Aw/FG4MQdJeiRHaKKTt50pBPrP2jDpgM4CSKNZ/W99fbR1JQ5q6bIO8NpMoJOlcSKl7S2GDKaHenyUdrX+krQutRKZrCFmfxSsnmKbJzkK4jh999FG/9SuvhJhjjjncZ5995q/DgASEF1M7qUjHHXecu+mmm/zOQEmbz9g0U15Zcfvtt/uRAoPrF1xwQW8c8HoLvEF4CMePH++GDRvmr8nqWaJjQejSSZUSshhFpYQR5RcKbxMqJmSqgbjYLlx03gbTgkpNrQAz6uKXCBNOGFYSPJe8YAAEwR3O2adTh1BoooCUmlKB4EMhYzDFnk2cWPMSTjspll6u5TUbfJLHTLNgOo8QQpSCdeHImGLeqHiKfLWkkV1gspWlLUwX5TdgGDLYzflyA3DFsDgwCFnO44D8ZKodXhrbQKMU6FRMpWPgu5ynxOQ9aWE3dTP8+KQ/4XwxA92o1mgoRSUKfzX9XDHOPPPMduXB4AN10p6RBJutkP54103WnmFUm/FfD9LUZcqOgQT69HDfBK43p0kxit0LsR4Vgh5CWw13cAXyljyulbRtOC1J9a1UXSB8lhplsdyoUcnUIATm8/IuQLyATNPEI8i0Tdb33XPPPV5oPfHEE4Wrnbv55pvdbbfd5g03GhILQxFM9nqKkGuvvda9//77fmoo14VTPTFCKSieQ0XmuRidtrsXZPUs0bHQKBH0pTpiG9llunISs802m6+bNu8cAzPeIawa6HwJL5xvD/ZZDJ57+OGH++/hnHt20YoXZSdheRF33AyIEDZC08Lk2nJrK0gH11g6aDcjRozwHX8I16GkhOkl/u+9915JBUIIIUJQqvCmoESaURKDTEHGpTGiypFWdiEvGbwO+xtkKgZiOUOhHLZzYrjBDH1b2DdxADI8yRgkDvE6KvKRKW7ljEEDA5xw8OpY2i2vSTvnS8G1ZjTw/CwGAEOFnzBjYySk2n4uiZ49e7bLT4wZDDqeUQzSz46xDB6EZYdeSb9O3OpJmrpM3bFpn3YNBjznysG9GH84duxeDgZFiqWtWJ5gIPJO8CzIUv9Iqm/V1IVWosuAAQOm8YVpk2Rqs4FQpfLhHcpTwTUTzVq3agHhQifNesVKBZUQQjQDeZTtQgjRbKSR1Zl7CIXIOzbyzZQSGYNCCCGEEKKRkUEoRA1cffXVM0xl6oh1BEIIIYQQQmSBDEIhauDrr7+eYT1HR60jEEIIIYQQolaafg2haHxUt4QQovWQbBdCiMZHawiFEEIIIYQQQhRFBqEQQgghhBBC5BQZhEIIIYQQQgiRU2QQCiGEEEIIIUROkUEohBBCCCGEEDlFBqEQQgghhBBC5BQZhEIIIYQQQgiRU2QQCiGEEEIIIUROafdieiGEEEIIIYQQrUO5F9O3MwjLXSxENahuCSFE6yHZLoQQjU8aWa0po0IIIYQQQgiRU2QQCiGEEEIIIUROkUEohBBCCCGEEDlFBqEQQgghhBBC5BQZhEIIIYQQQgiRU2QQCiGEEEIIIUROkUEohBBCCCGEEDlFBqEQQgghhBBC5BQZhEIIIYQQQgiRU7oMGDBgGl/SvMVeiGrIqm717t3b9enTx/Xo0cN16dKlcFYI0RFMmzbNTZo0yY0fP95NmDChcFbkGcl2kVckD0UzkUZWy0MomoJ+/fq5ueee2/Xs2VMKgxCdAO2O9kc7pD0KkQWS7aIZkTwUrYYMQtHwMHo8++yzF34JITob2iPtUohakGwXrYDkoWgFZBCW4YYbbnDPPvusO+aYYwpnREfDVCIhRGOhdilqRXVItAqqy6LZydQgvOCCC7zxlHTIoBLVwroSIURjoXYpakV1SLQKqsui2amLh3Dq1Klu4sSJ7Y7JkycX/hWiMrSuRIjGQ+1S1IrqkGgVVJdFs1MXg/CDDz5wG2ywQbvjL3/5S+FfIUQ51l9/fXfRRRf5TyE6gv3339+deeaZhV9C5Ivll1/eDRkyxO28886FMyLPqA8WeUNrCIWIQDG+8sorO60j4Ll77723++STT9yjjz5aOOvcscce62688UZ/1Ct+PINOEOUoLdXcIxqPxx9/3PXq1cuXpxB5Atl18MEH+5lMyFcDGYusNblbj7Zhz6DfSUtn91GNAGXGAFa1ecC9pfpT+l764F133VV9m8gFHWoQnnzyye4f//iHGzFihNtss838uYUXXtj97W9/8+sML7zwQq+Q7L777u7mm292Tz75pD//9NNPu1tuucVtscUW/h6wzV5OOOEEd9555/lrn3nmGXfrrbf667bZZht3++23+3Pcf9VVV7lVV13V37vffvv56++66y7f2LnHroufk8Riiy3mzj77bC8wLH7Ed9ttty1cIUT1bLfddu7LL7/07SWE34xeP/jgg4UzQmTHK6+84uvWMsssU5FyKkSzs/322/vPyy67zH8a9PHoIyeddJIbM2ZM4azoTOgDL730UrfooosWzkw37io1qIGwOOhvkwy/2267zX/utdde/lOIVqYuBiEGE4aSHY888ojbcsst3eWXX+5HXNiNyYynn/3sZ75hjxo1yl1zzTV+vSHXzjPPPO6jjz5yb731lvvmm2+84Yght8IKK/j7jHXWWcctt9xy7vPPP3dTpkxxCy20kB/pO+SQQ/wi308//dR17drVKzl4XUJ4hwznZpttNv+sH374wT+H+wk3CdJ2yimnuLXXXtu/jJT4jRw50t/HMzfddNPClUJUDp3TnHPO6QcZhOhoGC1//fXX3UorraRRcZEL8AwtscQS7sUXX/SDIqKxQUYxwL/TTju5BRdc0Otrb775pp+lkhauPeywwwq/nO9vZ5llFrfssssWzkzHBsnok+mbhWhlOmxTGYy1d9991zfmb7/91isbjLz9+Mc/dtOmTfPeuieeeMLfTwM88MAD3S677OJHbc4991x/T//+/d3KK6/srzG+//57P42DET7C5jm8KBQD86CDDvLeFryBsMgii3hFx8AQfO6557xxusMOO7gzzjjDff31126uueZyG220UeGq9gwePNgtvvji7vnnn/f3ED8OBBLvomG9pOg4bLSQT5vaE0//4L/rrrvO/8eRNO0nnD4Sl33S9Byu5wjhOguDI55GGf+fNKI5cOBAx2gl/1dDnNYwDjyP36yT4T88jvzmexwX2l5SGMB3u48jHqSBOK1xXpXC0hDeY+eymrJFWVKmcXj8jtNr18bn00AaiDfxNzgX16c0EAb3hWGloZK0whtvvJGoHAnRUVA3kVMmZ4466ihfh+O2VErOmLz7zW9+0/Z/UrujnqNfMGW6GmJ5GMaRZ9E/IWv5j+vseywT0R+In4UTy2Sut/+S9BOeybPtmqS2XQxLQ5g/di4Ox+RJJeEbWcpDA52vnt7b1157zdcP+mYhWpkO2VSGKZj333+//+/666/3Rhjeuf/5n/9x8803n3vppZe899DAgNtxxx39tUwv/cMf/uAVFDx9fIYwmm2GJEYZawAwSJkCigEKKDgYjjDTTDP5Txg/frwbPny4N1iB6aLvvfee3y2KeCWx9NJL+3isttpq3vNpHlATFn379vWfouNgmjH15amnnvIdDQYVAwHAb74z9YfvKBmMBofKMR0SYTAtiGuqmZJJ502HxtRhwuDgnI04x//zye+w06dzXWCBBdzYsWMLZyqD+zHO/vjHP7allfZi06GgX79+3pv+8ssv+zrLqPjHH3/sllpqqcIV06/hJbtJYfAMRmRpM5ZOwgohXfPPP3/b/6R13nnnnUHBKQbKDNO97R7C22qrrXxbj6fRVgv14e233/b5bUoNz8naU8AoNDMIUOB4DvWO0eahQ4f6OHQElabVFCDqgRCdBQO7Jp8GDRrkHnroId9nW1+bRs5Qh+mzke0c1GvrGwxkH/Ks2jaPbKLPsHiE7R1mnnlmP8h89913+9lRyFbzOpEGgzQyME4YyNS11lqr7f9yfRTPKif7S0HauSfMH5smyflGkoekb7fddnM33XSTrxsYmISXtn9JYs011/RpR/bFkHZmtkm3E61Op2wqM2zYMDdu3Dg3xxxzeEGMoDSjjKmaf/7zn70RiRD97LPP/LrDYq+tSFKemfpJ4zb4ncSkSZPcV199Vfg1Hc6VAmMQENjEOz401a9zoINkxBKoE3SedDgoD3RA9l+sHNPh0klzf7WdHuHgecZgwZhJAqUj/J9P4hUbYnTieLergfjTwVo6SCvGcdiR0S4YwABGVRkVj9sQ520tjeWXhcFoOoMqGGzF4J7jjjuu8Gu6gYEiR3tOC/lDOChFeOCT1lTWSuwJs89YKSAezGZA4aimjlhecj9GGEofYXYkadMaUkl5CZE1Jp8AWXnFFVe06QmQRs4g7zAYaLccGJjWNwCf/K52EA5OO+20dnKfgWnaWjigwnOJOwPT6AikzQapDdJj4SCj+R8DN00fxflysr8c3EteYaBhgPJpeRfS2fKQPNpnn33c+++/739T5oRlfXylcC9TT8sNBIb1RohWpFMMwk022cRPj8D4YrRs8803940NWD/IyCBr//bdd1/vRbzvvvv8tICswbjr1q1b4df0Bo8QBLyMpUAIHX/88TMcV111VeEK0VHQcYZTRjAcrLOiQ0TY04nYEU5xpMNlBLcWyhlypnTw3DAexCtrUArq8QzrDElrmvxCobA4oLSFylFa6OBRasjbUgZotRA3wjePA8Y5xm8lykkaqIcoc+QB4fPctKAM2jQyvODkBZ/8rmSaVUelVYiOpBo5ExtrtYLHCsPJ4oG3KguQs8QzbR+VhexHHjDThnv5rId8qEUehhAOHsda4oieQHkxwF+tQSlEq9DhBiEjSygxGFTMrecT78oee+zh/7cRLZR8RgVhjTXW8BvEZA3PCncUJQ4IQoxPRtSTYIoCrLjiin4NoYGyz3SOcI2i6HwY+aXM6LTDwwzGLMAYZSS6mEeF5zA6TKcTxyNc2F4unHKQJjZPCqetWn2tBdoJ8U+bXzYNiKlGxIF2ERrsaSEcDNEPP/wwcQe4LGA0H2/x1ltv7Z9l3tMsQd4xrYyp8YyIU05pQdlBZpKPlCv1w8qX85UoQ5WmtVpPtRAdQTVyBtlKG7LrTDZX4kkLsbbN7A/iwIGxUysYgZBWbmYl+7mPWRnskcAnv7OmFnmYJaSNuNAvp5l9UkkfKEQzUheDkM1bUDbCg9FsjCbmtHfv3t2v8WMKCJ+MfuEZZF0eI0Z45wiDUTdeCZHViFsMht/GG2/svQ+sH8QbSdxYe3jHHXcUrmoP8fniiy/8hjSHH364v49XYFxwwQX+tRbhGkXR+WDYx+tKQphmhIJgnhOui+ubdcrWSaOIhKOvdBKsMaBDLtaBooyX+h8snHCtVyWg7IQDKaSlVg8h8SXdxB9siqFNOSQvQo8roFyFShdtvtIReVNwUK5oX5C09TfPZ4SZz2qwKWnEkbxPMrBQGqrdRIHrbcorU8sYdSe8eiha5UiTVqBs8aKkVUaF6AwqlTO0OwwQ6n6o2CPbMCz5v1LMe2eDJ4SBIVUr4Zq2NH1UFrKfuGOooYMhq/jkd5wv/G52eWhpJb/KGYPEmT65lmnFQjQDdTEImYbJCHR4sInMr371K78IHOGJYQV88ptpoox4I2TYVAbhxrXci8FWbm1fNbCOkbAx7nhtBLudYqCyhhGvRBJsYMNrJxgRBO7DeOXVGA888ECbwiwaA4wFypgOgO92mAGBYoDRgfHBeTpzflP/DM7TgdlUPRQRRhVD6FSoE3YNR9hh8h0FPPyfg447JF7rZRAOYXAPygDXsLkLgybWmfLOJBQHznMd3upinu5i0BZRqph+RRhsMED+8WwgDXTixIH/6ShtF1+D64mfhUF+VTJabQqPrbm0MkL5YopYCOljYAdFL1Zc0mBGOPGtNK/KQZlRFoRNngD5iBJCvna0EpQ2rSiepowK0aikkTP8b/KQT2RXbADEg1whyCLutemoNu3f5BDfkVMmD7me8ML+oxwYtLQ3C4MDCIs2m6aPqlX2Izt5BRdh2Lv3LEzOVyNbYxpJHvI84oHRbHnOEfcvYANkWfcPQjQaXQYMGDCNL//59Dts5gHeZ4jxyYgP6/7Y9VTUj1rrFvfnCTolBkKy3N2tVTElA6rNLwYHMGzzkN/l0opSxsg5Gz2gIJUjL32GSKaRZTsGFcZTmh0saRcMKnXk7r+i8bH+hYG0NNNKJQ9Fo5JGVnfKpjJCiOLYyDdToERp1l13XT9yH08DSwsGEIogI+6tbgyWSyvKD16KWjZ6EKIZMW+YvXJBCLA+2LymQrQyMghFw8NU3jzBCDUj1Xhyspiq04pgvDDdCAMGAyfN6G2ITQVjCi/TyFrZAEqbVoxrNk5Im5d5a5ciexqlDjFAgtecPQQ6eiq3aEzoe+mDk169kYTkoWh2NGVUU0brTq11a7755vNrUIUQjcN3333n3xMr8otkuxDTkTwUjYymjBbh4osvdmuvvbZfKyNjsPHh1SRCiMZC7VLUiuqQaBVUl0WzoymjouGZMGGC3xFWCNEY0B5pl0LUgmS7aAUkD0UrIINQNAVszc37H5mWobn6QnQ8tDvaH+1Q7ygUWSHZLpoRyUPRarStIeR9euzUx0vhhciSPK1PFUKIvCDZLoQQjQ3vhmeDpGLvVzfaPISTJ092PXr0KPwSQgghhBBCCNGsYNth45WjzSBk/nOfPn0Kv4QQQgghhBBCNCvYdmnWuLYZhF9//bXr2rWrm2222QpnhBBCCCGEEEI0G9h02HbYeOVot6nM6NGjXd++fWUUCiGEEEIIIUQTgi2HTYdtl4Z2BiFzTEeOHOkDmXfeeV2vXr38YkQhhBBCCCGEEI0JNhu2GzYcthw2XZr1g9C2y2gMAfXu3dt1795dRqEQQgghhBBCNCi8KQIDkDWDaaaJhhQ1CIUQQgghhBBCtDbtpowKIYQQQgghhMgPMgiFEEIIIYQQIqfIIBRCCCGEEEKInCKDUAghhBBCCCFyigxCIYQQQgghhMgpMgiFEEIIIYQQIqfIIBRCCCGEEEKInCKDUAghhBBCCCFyigxCIYQQQgghhMgpMgiFEEIIIYQQIqfIIBRCCCGEEEKIXOLc/wN87RV3n49IYwAAAABJRU5ErkJggg==)"
      ],
      "metadata": {
        "id": "Aqn6KsZt4u4e"
      }
    },
    {
      "cell_type": "code",
      "source": [
        "result = rdd.reduce(lambda x, y: x + y)\n",
        "print(result)\n"
      ],
      "metadata": {
        "colab": {
          "base_uri": "https://localhost:8080/"
        },
        "id": "uAG8N-z74X4K",
        "outputId": "fd95d561-144a-4648-ed3f-d36bc1d719d7"
      },
      "execution_count": 40,
      "outputs": [
        {
          "output_type": "stream",
          "name": "stdout",
          "text": [
            "55\n"
          ]
        }
      ]
    },
    {
      "cell_type": "markdown",
      "source": [
        "# RDD Persistence\n"
      ],
      "metadata": {
        "id": "W1eSP_PD_iZP"
      }
    },
    {
      "cell_type": "code",
      "source": [
        "from pyspark import StorageLevel\n",
        "rdd.persist(StorageLevel.MEMORY_AND_DISK)\n"
      ],
      "metadata": {
        "colab": {
          "base_uri": "https://localhost:8080/"
        },
        "id": "MTy3pRFi7Z3G",
        "outputId": "cf1de4fe-dcaf-4264-d07b-d3caed76969a"
      },
      "execution_count": 41,
      "outputs": [
        {
          "output_type": "execute_result",
          "data": {
            "text/plain": [
              "ParallelCollectionRDD[65] at readRDDFromFile at PythonRDD.scala:289"
            ]
          },
          "metadata": {},
          "execution_count": 41
        }
      ]
    },
    {
      "cell_type": "markdown",
      "source": [
        "#RDD Partitioning\n"
      ],
      "metadata": {
        "id": "VfteFo0v_492"
      }
    },
    {
      "cell_type": "code",
      "source": [
        "rdd = spark.sparkContext.parallelize(data, numSlices=4)\n",
        "print(rdd.getNumPartitions())  # Output: 4\n"
      ],
      "metadata": {
        "colab": {
          "base_uri": "https://localhost:8080/"
        },
        "id": "FSd1ik2J_xoX",
        "outputId": "a43fd59d-a2eb-43ba-c815-22718553a663"
      },
      "execution_count": 43,
      "outputs": [
        {
          "output_type": "stream",
          "name": "stdout",
          "text": [
            "4\n"
          ]
        }
      ]
    },
    {
      "cell_type": "markdown",
      "source": [
        "#Fault Tolerance with Lineage\n"
      ],
      "metadata": {
        "id": "GsDRDIzQB-Nh"
      }
    },
    {
      "cell_type": "markdown",
      "source": [
        "যদি কোনো নোড কাজ করা বন্ধ করে দেয়, Spark লিনিয়েজ (lineage) ব্যবহার করে হারানো ডেটা পুনর্গঠন করে।"
      ],
      "metadata": {
        "id": "Ced_dEqACFfZ"
      }
    },
    {
      "cell_type": "code",
      "source": [
        "rdd1 = spark.sparkContext.parallelize([1, 2, 3])\n",
        "rdd2 = rdd1.map(lambda x: x * 2)\n",
        "print(rdd2.toDebugString())\n"
      ],
      "metadata": {
        "colab": {
          "base_uri": "https://localhost:8080/"
        },
        "id": "Zs6RCR4ZAE0a",
        "outputId": "fee8d056-e485-4c09-8e6e-ba43265fd17d"
      },
      "execution_count": 44,
      "outputs": [
        {
          "output_type": "stream",
          "name": "stdout",
          "text": [
            "b'(2) PythonRDD[76] at RDD at PythonRDD.scala:53 []\\n |  ParallelCollectionRDD[75] at readRDDFromFile at PythonRDD.scala:289 []'\n"
          ]
        }
      ]
    },
    {
      "cell_type": "markdown",
      "source": [
        "# উদাহরণ: RDD দিয়ে Word Count\n",
        "\n"
      ],
      "metadata": {
        "id": "zY1Cwr4pCmk3"
      }
    },
    {
      "cell_type": "code",
      "source": [
        "rdd = spark.sparkContext.textFile(\"/content/RDD.txt\")\n",
        "words = rdd.flatMap(lambda line: line.split(\" \"))\n",
        "word_counts = words.map(lambda word: (word, 1)).reduceByKey(lambda x, y: x + y)\n",
        "print(word_counts.collect())\n"
      ],
      "metadata": {
        "colab": {
          "base_uri": "https://localhost:8080/"
        },
        "id": "kxqahi_OCKsL",
        "outputId": "f78ae08f-98ab-405f-e9f9-09457d3f80a1"
      },
      "execution_count": 49,
      "outputs": [
        {
          "output_type": "stream",
          "name": "stdout",
          "text": [
            "[('Hello', 1), ('Apache', 1), ('Spark', 1), ('is', 2), ('powerful.', 1), ('Distributed', 1), ('loves', 1), ('interested', 1), ('in', 1), ('world.', 1), ('Resilient', 1), ('Dataset.', 1), ('prinom', 2), ('CSE.', 2)]\n"
          ]
        }
      ]
    },
    {
      "cell_type": "code",
      "source": [
        "rdd = spark.sparkContext.parallelize(\"Myself: PRINOM. PRINOM is not good in English. prinom\")\n",
        "words = rdd.flatMap(lambda line: line.split(\" \"))\n",
        "word_counts = words.map(lambda word: (word, 1)).reduceByKey(lambda x, y: x + y)\n",
        "print(word_counts.collect())\n"
      ],
      "metadata": {
        "colab": {
          "base_uri": "https://localhost:8080/"
        },
        "id": "zpEey3QfCv6W",
        "outputId": "c9d4cf4b-8418-4861-e97e-8e6033e16978"
      },
      "execution_count": 48,
      "outputs": [
        {
          "output_type": "stream",
          "name": "stdout",
          "text": [
            "[('y', 1), ('s', 3), ('l', 2), ('', 16), ('R', 2), ('N', 2), ('O', 2), ('.', 2), ('i', 4), ('g', 2), ('d', 1), ('h', 1), ('p', 1), ('r', 1), ('M', 3), ('e', 1), ('f', 1), (':', 1), ('P', 2), ('I', 2), ('n', 4), ('o', 4), ('t', 1), ('E', 1), ('m', 1)]\n"
          ]
        }
      ]
    },
    {
      "cell_type": "code",
      "source": [],
      "metadata": {
        "id": "cDOcF9KMDweD"
      },
      "execution_count": null,
      "outputs": []
    }
  ]
}